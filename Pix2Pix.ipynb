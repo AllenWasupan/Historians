{
  "cells": [
    {
<<<<<<< HEAD
      "cell_type": "markdown",
      "source": [
        "ATTENTION: Ensure that the dataset directories are changed to the appropriate directory for the testing environment. The current directories are for my Google Colaboratory environment. "
      ],
      "metadata": {
        "id": "sFpnMbU9_J7j"
      }
    },
    {
=======
>>>>>>> parent of a215237 (Update Pix2Pix.ipynb)
      "cell_type": "code",
      "execution_count": 2,
      "metadata": {
        "id": "e3vwX_4SOARy"
      },
      "outputs": [],
      "source": [
        "import torch\n",
        "import torch.nn as nn\n",
        "import torch.optim as optim\n",
        "import torchvision\n",
        "import torchvision.datasets as datasets\n",
        "import torchvision.transforms as transforms\n",
        "from torch.utils.data import DataLoader\n",
        "from torch.utils.tensorboard import SummaryWriter\n",
        "import numpy as np\n",
        "import matplotlib.pyplot as plt\n",
        "import os\n",
        "from tqdm import tqdm"
      ]
    },
    {
      "cell_type": "code",
<<<<<<< HEAD
      "execution_count": 3,
=======
      "execution_count": null,
>>>>>>> parent of cca5e74 (Final touches)
      "metadata": {
        "id": "-Zj1-9rfHtko"
      },
      "outputs": [],
      "source": [
        "class Generator(nn.Module):\n",
        "  def __init__(self, num_input_channels = 1, num_output_channels = 3, num_features = 64):\n",
        "    super(Generator, self).__init__()\n",
        "    # Padding --> p = ((s - 1) * (input_size - 1) + k - input_size) / 2, where k is the kernel size and s is the stride.\n",
        "    p = ((2 - 1) * (num_input_channels - 1) + 4 - num_input_channels) / 2\n",
        "  \n",
        "    self.enc1 = self._encoder(num_input_channels, num_features, kernel_size = 4, stride = 2, padding = 1, first_layer = True)\n",
        "    self.enc2 = self._encoder(num_features, num_features * 2, kernel_size = 4, stride = 2, padding = 1, first_layer = False)\n",
        "    self.enc3 = self._encoder(num_features * 2, num_features * 4, kernel_size = 4, stride = 2, padding = 1, first_layer = False)\n",
        "    self.enc4 = self._encoder(num_features * 4, num_features * 8, kernel_size = 4, stride = 2, padding = 1, first_layer = False)\n",
        "    self.enc5 = self._encoder(num_features * 8, num_features * 8, kernel_size = 4, stride = 2, padding = 1, first_layer = False)\n",
        "    self.enc6 = self._encoder(num_features * 8, num_features * 8, kernel_size = 4, stride = 2, padding = 1, first_layer = False)\n",
        "    self.enc7 = self._encoder(num_features * 8, num_features * 8, kernel_size = 4, stride = 2, padding = 1, first_layer = False)\n",
        "\n",
        "    # Bottleneck:\n",
        "    self.bottleneck = nn.Conv2d(num_features * 8, num_features * 8, kernel_size = 4, stride = 2, padding = 1, padding_mode = \"reflect\")\n",
        "    self.relu = nn.ReLU()\n",
        "\n",
        "    self.dec1 = self._decoder(num_features * 8, num_features * 8, kernel_size = 4, stride = 2, padding = 1, use_dropout = True)\n",
        "    self.dec2 = self._decoder(num_features * 8 * 2, num_features * 8, kernel_size = 4, stride = 2, padding = 1, use_dropout = True)\n",
        "    self.dec3 = self._decoder(num_features * 8 * 2, num_features * 8, kernel_size = 4, stride = 2, padding = 1, use_dropout = True)\n",
        "    self.dec4 = self._decoder(num_features * 8 * 2, num_features * 8, kernel_size = 4, stride = 2, padding = 1, use_dropout = False)\n",
        "    self.dec5 = self._decoder(num_features * 8 * 2, num_features * 4, kernel_size = 4, stride = 2, padding = 1, use_dropout = False)\n",
        "    self.dec6 = self._decoder(num_features * 4 * 2, num_features * 2, kernel_size = 4, stride = 2, padding = 1, use_dropout = False)\n",
        "    self.dec7 = self._decoder(num_features * 2 * 2, num_features, kernel_size = 4, stride = 2, padding = 1, use_dropout = False)\n",
        "    self.dec8 = nn.ConvTranspose2d(num_features * 2, num_output_channels, kernel_size = 4, stride = 2, padding = 1)\n",
        "    self.tanh = nn.Tanh() # For colorization, sigmoid can be more suitable as the values would be from 0 to 1 for the color channels, rather than Tanh's [-1, 1] range that\n",
        "    # can lead to a steeper gradient IF THE COLORS ARE NORMALIZED. NOT IN THIS CASE. \n",
        "    \n",
        "  \n",
        "\n",
        "  def _encoder(self, in_channels, out_channels, kernel_size, stride, padding, first_layer = True):\n",
        "    if first_layer == True:\n",
        "      # Batch normalization is not applied on the first layer in the encoder. \n",
        "      return nn.Sequential(\n",
        "          nn.Conv2d(in_channels, out_channels, kernel_size, stride, padding, bias = False, padding_mode = \"reflect\"),\n",
        "          nn.LeakyReLU(0.2)\n",
        "       )\n",
        "    if first_layer == False:\n",
        "      return nn.Sequential(\n",
        "          nn.Conv2d(in_channels, out_channels, kernel_size, stride, padding, bias = False, padding_mode = \"reflect\"),\n",
        "          nn.BatchNorm2d(out_channels),\n",
        "          nn.LeakyReLU(0.2)\n",
        "       )\n",
        "  \n",
        "  def _decoder(self, in_channels, out_channels, kernel_size, stride, padding, use_dropout = True):\n",
        "    # All ReLUs in the decoder are NOT leaky.\n",
        "    if use_dropout == True:\n",
        "      return nn.Sequential(\n",
        "        nn.ConvTranspose2d(in_channels, out_channels, kernel_size, stride, padding),\n",
        "        nn.BatchNorm2d(out_channels),\n",
        "        nn.Dropout2d(0.5),\n",
        "        nn.ReLU(0.2)\n",
        "      )\n",
        "    if use_dropout == False:\n",
        "      return nn.Sequential(\n",
        "        nn.ConvTranspose2d(in_channels, out_channels, kernel_size, stride, padding),\n",
        "        nn.BatchNorm2d(out_channels),\n",
        "        nn.ReLU(0.2)\n",
        "      )\n",
        "  \n",
        "  def forward(self, x):\n",
        "    c1 = self.enc1(x)\n",
        "    c2 = self.enc2(c1)\n",
        "    c3 = self.enc3(c2)\n",
        "    c4 = self.enc4(c3)\n",
        "    c5 = self.enc5(c4)\n",
        "    c6 = self.enc6(c5)\n",
        "    c7 = self.enc7(c6)\n",
        "    bottle = self.relu(self.bottleneck(c7))\n",
        "    d1 = self.dec1(bottle)\n",
        "    d2 = self.dec2(torch.cat([d1, c7], dim = 1))\n",
        "    d3 = self.dec3(torch.cat([d2, c6], dim = 1))\n",
        "    d4 = self.dec4(torch.cat([d3, c5], dim = 1))\n",
        "    d5 = self.dec5(torch.cat([d4, c4], dim = 1))\n",
        "    d6 = self.dec6(torch.cat([d5, c3], dim = 1))\n",
        "    d7 = self.dec7(torch.cat([d6, c2], dim = 1))\n",
        "    d8 = self.dec8(torch.cat([d7, c1], dim = 1))\n",
        "    final = self.tanh(d8)\n",
        "\n",
        "    return final\n",
        "    "
      ]
    },
    {
      "cell_type": "code",
      "execution_count": 5,
      "metadata": {
<<<<<<< HEAD
        "id": "0v3jLz_5Nvyy",
        "colab": {
          "base_uri": "https://localhost:8080/"
        },
        "outputId": "f4eda860-f3e1-4b46-83cf-e98deb255a27"
=======
        "colab": {
          "base_uri": "https://localhost:8080/"
        },
        "id": "0v3jLz_5Nvyy",
        "outputId": "2d230643-a1d7-4fc4-d592-62e6b208e3f8"
>>>>>>> parent of a215237 (Update Pix2Pix.ipynb)
      },
      "outputs": [
        {
          "output_type": "stream",
          "name": "stdout",
          "text": [
            "torch.Size([1, 3, 256, 256])\n"
          ]
        }
      ],
      "source": [
        "def test():\n",
        "  x = torch.randn((1, 3, 256, 256))\n",
        "  model = Generator(num_input_channels = 3, num_output_channels = 3, num_features = 64)\n",
        "  preds = model(x)\n",
        "  print(preds.shape)\n",
        "\n",
        "\n",
        "test()"
      ]
    },
    {
      "cell_type": "code",
      "execution_count": 4,
      "metadata": {
        "id": "vo7ng3u8QgCA"
      },
      "outputs": [],
      "source": [
        "# 286 x 286 discriminator architecture:\n",
        "class Discriminator(nn.Module):\n",
        "  def __init__(self, input_channels = 3, features = [64, 128, 256, 512]):\n",
        "    super(Discriminator, self).__init__()\n",
        "    p = ((2 - 1) * (input_channels - 1) + 4 - input_channels) / 2\n",
        "    self.l1 = self._block(input_channels * 2, features[0], kernel_size = 4, stride = 2, padding = 1, first_layer = True)\n",
        "    layers = []\n",
        "    in_channels = features[0]\n",
        "    for feature in features[1:]:\n",
        "      layers.append(\n",
        "          self._block(in_channels, feature, kernel_size = 4, stride = 1 if feature == features[-1] else 2, padding = 1, first_layer = False)\n",
        "      )\n",
        "      in_channels = feature\n",
        "    layers.append(self._block(512, 512, kernel_size = 4, stride = 1, padding = 1, first_layer = False))\n",
        "    layers.append(self._block(512, 512, kernel_size = 4, stride = 1, padding = 1, first_layer = False))\n",
        "    self.model = nn.Sequential(*layers)\n",
        "    self.final = nn.Conv2d(features[-1], 1, kernel_size = 1, stride = 1, padding = 1)\n",
        "    self.sigmoid = nn.Sigmoid()\n",
        "\n",
        "# Standard convolutional layer.\n",
        "  def _block(self, in_channels, out_channels, kernel_size, stride, padding, first_layer = True):\n",
        "    if first_layer == True:\n",
        "      return nn.Sequential(\n",
        "        nn.Conv2d(in_channels, out_channels, kernel_size, stride, padding, padding_mode = \"reflect\"),\n",
        "        nn.LeakyReLU(0.2)\n",
        "        )\n",
        "    if first_layer == False:\n",
        "      return nn.Sequential(\n",
        "        nn.Conv2d(in_channels, out_channels, kernel_size, stride, padding, padding_mode = \"reflect\"),\n",
        "        nn.BatchNorm2d(out_channels),\n",
        "        nn.LeakyReLU(0.2)\n",
        "      )  \n",
        "  \n",
        "  def forward(self, x, y):\n",
        "    x = torch.cat([x, y], dim = 1)\n",
        "    x = self.l1(x)\n",
        "    x = self.model(x)\n",
        "    x = self.final(x)\n",
        "    x = self.sigmoid(x)\n",
        "\n",
        "    return x\n",
        "\n"
      ]
    },
    {
      "cell_type": "code",
      "execution_count": 6,
      "metadata": {
        "id": "VIBToMlOFltZ"
      },
      "outputs": [],
      "source": [
        "def test():\n",
        "  x = torch.randn((1, 3, 286, 286))\n",
        "  y = torch.randn((1, 3, 286, 286))\n",
        "  model = Discriminator()\n",
        "  preds = model(x, y)\n",
        "  print(preds.shape)"
      ]
    },
    {
      "cell_type": "code",
      "execution_count": 7,
      "metadata": {
<<<<<<< HEAD
        "id": "JjpTg881MO0S",
        "colab": {
          "base_uri": "https://localhost:8080/"
        },
        "outputId": "1041788f-241c-4f41-9b4b-d1c55ae702bd"
      },
      "outputs": [
        {
          "output_type": "stream",
          "name": "stdout",
          "text": [
            "torch.Size([1, 1, 34, 34])\n"
=======
        "colab": {
          "base_uri": "https://localhost:8080/",
          "height": 316
        },
        "id": "JjpTg881MO0S",
        "outputId": "bea77454-012e-4b5c-ad18-4fa8f7d489ab"
      },
      "outputs": [
        {
          "output_type": "error",
          "ename": "NameError",
          "evalue": "ignored",
          "traceback": [
            "\u001b[0;31m---------------------------------------------------------------------------\u001b[0m",
            "\u001b[0;31mNameError\u001b[0m                                 Traceback (most recent call last)",
            "\u001b[0;32m<ipython-input-5-6429206cf091>\u001b[0m in \u001b[0;36m<cell line: 1>\u001b[0;34m()\u001b[0m\n\u001b[1;32m      1\u001b[0m \u001b[0;32mif\u001b[0m \u001b[0m__name__\u001b[0m \u001b[0;34m==\u001b[0m \u001b[0;34m\"__main__\"\u001b[0m\u001b[0;34m:\u001b[0m\u001b[0;34m\u001b[0m\u001b[0;34m\u001b[0m\u001b[0m\n\u001b[0;32m----> 2\u001b[0;31m   \u001b[0mtest\u001b[0m\u001b[0;34m(\u001b[0m\u001b[0;34m)\u001b[0m\u001b[0;34m\u001b[0m\u001b[0;34m\u001b[0m\u001b[0m\n\u001b[0m",
            "\u001b[0;32m<ipython-input-4-534301d055e2>\u001b[0m in \u001b[0;36mtest\u001b[0;34m()\u001b[0m\n\u001b[1;32m      2\u001b[0m   \u001b[0mx\u001b[0m \u001b[0;34m=\u001b[0m \u001b[0mtorch\u001b[0m\u001b[0;34m.\u001b[0m\u001b[0mrandn\u001b[0m\u001b[0;34m(\u001b[0m\u001b[0;34m(\u001b[0m\u001b[0;36m1\u001b[0m\u001b[0;34m,\u001b[0m \u001b[0;36m3\u001b[0m\u001b[0;34m,\u001b[0m \u001b[0;36m286\u001b[0m\u001b[0;34m,\u001b[0m \u001b[0;36m286\u001b[0m\u001b[0;34m)\u001b[0m\u001b[0;34m)\u001b[0m\u001b[0;34m\u001b[0m\u001b[0;34m\u001b[0m\u001b[0m\n\u001b[1;32m      3\u001b[0m   \u001b[0my\u001b[0m \u001b[0;34m=\u001b[0m \u001b[0mtorch\u001b[0m\u001b[0;34m.\u001b[0m\u001b[0mrandn\u001b[0m\u001b[0;34m(\u001b[0m\u001b[0;34m(\u001b[0m\u001b[0;36m1\u001b[0m\u001b[0;34m,\u001b[0m \u001b[0;36m3\u001b[0m\u001b[0;34m,\u001b[0m \u001b[0;36m286\u001b[0m\u001b[0;34m,\u001b[0m \u001b[0;36m286\u001b[0m\u001b[0;34m)\u001b[0m\u001b[0;34m)\u001b[0m\u001b[0;34m\u001b[0m\u001b[0;34m\u001b[0m\u001b[0m\n\u001b[0;32m----> 4\u001b[0;31m   \u001b[0mmodel\u001b[0m \u001b[0;34m=\u001b[0m \u001b[0mDiscriminator\u001b[0m\u001b[0;34m(\u001b[0m\u001b[0;34m)\u001b[0m\u001b[0;34m\u001b[0m\u001b[0;34m\u001b[0m\u001b[0m\n\u001b[0m\u001b[1;32m      5\u001b[0m   \u001b[0mpreds\u001b[0m \u001b[0;34m=\u001b[0m \u001b[0mmodel\u001b[0m\u001b[0;34m(\u001b[0m\u001b[0mx\u001b[0m\u001b[0;34m,\u001b[0m \u001b[0my\u001b[0m\u001b[0;34m)\u001b[0m\u001b[0;34m\u001b[0m\u001b[0;34m\u001b[0m\u001b[0m\n\u001b[1;32m      6\u001b[0m   \u001b[0mprint\u001b[0m\u001b[0;34m(\u001b[0m\u001b[0mpreds\u001b[0m\u001b[0;34m.\u001b[0m\u001b[0mshape\u001b[0m\u001b[0;34m)\u001b[0m\u001b[0;34m\u001b[0m\u001b[0;34m\u001b[0m\u001b[0m\n",
            "\u001b[0;31mNameError\u001b[0m: name 'Discriminator' is not defined"
>>>>>>> parent of a215237 (Update Pix2Pix.ipynb)
          ]
        }
      ],
      "source": [
        "if __name__ == \"__main__\":\n",
        "  test()"
      ]
    },
    {
      "cell_type": "code",
      "execution_count": 8,
      "metadata": {
        "id": "8-jRxwRAM6pv"
      },
      "outputs": [],
      "source": [
        "from PIL import Image\n",
        "from torch.utils.data import Dataset\n",
        "import zipfile\n",
        "\n",
        "dataset_path = \"/content/drive/MyDrive/FINALDATA/higher.zip\"\n",
        "\n",
        "with zipfile.ZipFile(dataset_path, 'r') as zip_file:\n",
        "  zip_file.extractall('.')"
      ]
    },
    {
      "cell_type": "code",
      "execution_count": 9,
      "metadata": {
        "id": "jnLNv1AqqCAE"
      },
      "outputs": [],
      "source": [
        "transform = [\n",
        "    transforms.Resize((256, 256)),\n",
        "    transforms.ToTensor(),\n",
        "    transforms.Normalize((0.5, ), (0.5, ), (0.5,))\n",
        "]"
      ]
    },
    {
      "cell_type": "code",
      "execution_count": 10,
      "metadata": {
        "id": "4RE3Y4u64Xjy"
      },
      "outputs": [],
      "source": [
        "from torchvision.utils import save_image\n",
        "import torchvision.utils as vutils\n",
        "\n",
        "def save_some_examples(gen, val_loader, epoch, folder):\n",
        "    gen.eval()\n",
        "    with torch.no_grad():\n",
        "        inputs = []\n",
        "        outputs = []\n",
        "        for i in range(8):\n",
        "            x, y = val_loader.dataset[np.random.randint(len(val_loader.dataset))]\n",
        "            x, y = x.to(device), y.to(device)\n",
        "            y_fake = gen(x.unsqueeze(0))\n",
        "            y_fake = y_fake.squeeze(0) * 0.5 + 0.5  # remove normalization\n",
        "            inputs.append(x * 0.5 + 0.5)\n",
        "            outputs.append(y_fake)\n",
        "        inputs_grid = vutils.make_grid(inputs, nrow=4, normalize=True, scale_each=True)\n",
        "        outputs_grid = vutils.make_grid(outputs, nrow=4, normalize=True, scale_each=True)\n",
        "        grid = torch.cat([inputs_grid, outputs_grid], dim=1)\n",
        "        vutils.save_image(grid, folder + f\"/examples_{epoch}.png\")\n",
        "    gen.train()\n",
        "\n",
        "\n",
        "def save_checkpoint(model, optimizer, filename=\"my_checkpoint.pth.tar\"):\n",
        "    print(\"=> Saving checkpoint\")\n",
        "    checkpoint = {\n",
        "        \"state_dict\": model.state_dict(),\n",
        "        \"optimizer\": optimizer.state_dict(),\n",
        "    }\n",
        "    torch.save(checkpoint, filename)\n",
        "\n",
        "\n",
        "def load_checkpoint(checkpoint_file, model, optimizer, lr):\n",
        "    print(\"=> Loading checkpoint\")\n",
        "    checkpoint = torch.load(checkpoint_file, map_location= device)\n",
        "    model.load_state_dict(checkpoint[\"state_dict\"])\n",
        "    optimizer.load_state_dict(checkpoint[\"optimizer\"])\n",
        "\n",
        "    # If we don't do this then it will just have learning rate of old checkpoint\n",
        "    # and it will lead to many hours of debugging \\:\n",
        "    for param_group in optimizer.param_groups:\n",
        "        param_group[\"lr\"] = lr"
      ]
    },
    {
      "cell_type": "code",
      "execution_count": 11,
      "metadata": {
        "id": "3D6JZSq_YXuf"
      },
      "outputs": [],
      "source": [
        "import glob\n",
        "import cv2\n",
        "from PIL import Image\n",
        "\n",
        "class ImageDataset_color(Dataset):\n",
        "    def __init__(self, root, transforms_=None, mode=\"train\"):\n",
        "        self.transform = transforms.Compose(transforms_)\n",
        "        self.files = sorted(glob.glob(os.path.join(root) + \"/*.*\"))\n",
        "        print(f\"Number of files found: {len(self.files)}\")\n",
        "        print(self.files[:10])\n",
        "    \n",
        "    def __getitem__(self, index):\n",
        "        img_A = cv2.imread(self.files[index % len(self.files)])\n",
        "        img_A = cv2.cvtColor(img_A, cv2.COLOR_BGR2RGB)\n",
        "        img_B = cv2.cvtColor(cv2.cvtColor(img_A, cv2.COLOR_RGB2GRAY), cv2.COLOR_GRAY2RGB)\n",
        "        img_A = Image.fromarray(np.array(img_A), \"RGB\")\n",
        "        img_B = Image.fromarray(np.array(img_B), \"RGB\")\n",
        "        if np.random.random() < 0.5:\n",
        "            img_A = Image.fromarray(np.array(img_A)[:, ::-1, :], \"RGB\")\n",
        "            img_B = Image.fromarray(np.array(img_B)[:, ::-1, :], \"RGB\")\n",
        "\n",
        "        img_A = self.transform(img_A)\n",
        "        img_B = self.transform(img_B)\n",
        "\n",
        "        return img_B, img_A\n",
        "\n",
        "    def __len__(self):\n",
        "        return len(self.files)"
      ]
    },
    {
      "cell_type": "code",
      "execution_count": 15,
      "metadata": {
        "id": "pUARz-OA2VOV"
      },
      "outputs": [],
      "source": [
        "# Hyperparameter setup:\n",
        "import albumentations as A\n",
        "from albumentations.pytorch import ToTensorV2\n",
        "device = 'cuda' if torch.cuda.is_available() else 'cpu'\n",
        "learning_rate = 1e-4 # A smaller learning rate should be used when training on a new dataset because we want to make small adjustments\n",
        "# for the new dataset. \n",
        "batch_size = 4\n",
        "num_workers = 2\n",
        "image_size = 256\n",
        "channels_img = 3\n",
        "l1_lambda = 100\n",
        "num_epochs = 100\n",
        "load_model = False\n",
        "save_model = True\n",
        "checkpoint_disc = \"/content/disc.pth.tar\"\n",
        "checkpoint_gen = \"/content/gen.pth.tar\"\n",
        "\n",
        "both_transform = A.Compose([\n",
        "    A.Resize(width=256, height=256),\n",
        "    A.HorizontalFlip(p=0.5)\n",
        "], additional_targets={\"image0\":\"image\"})\n",
        "\n",
        "transform_only_input = A.Compose(\n",
        "    [\n",
        "     A.ColorJitter(p=0.2),\n",
        "     A.RandomBrightnessContrast(brightness_limit=0.1, contrast_limit=0.1, p=0.5),\n",
        "     A.Normalize(mean=[0.5, 0.5, 0.5], std=[0.5, 0.5, 0.5], max_pixel_value=255.0),\n",
        "     ToTensorV2()\n",
        "    ]\n",
        ")\n",
        "\n",
        "transform_only_mask = A.Compose(\n",
        "    [\n",
        "     A.RandomBrightnessContrast(brightness_limit=0.1, contrast_limit=0.1, p=0.5),\n",
        "     A.Normalize(mean=[0.5, 0.5, 0.5], std=[0.5, 0.5, 0.5], max_pixel_value=255.0),\n",
        "     ToTensorV2()\n",
        "    ]\n",
        ")"
      ]
    },
    {
      "cell_type": "code",
      "execution_count": 16,
      "metadata": {
<<<<<<< HEAD
        "id": "cz98gmIoM09l",
        "colab": {
          "base_uri": "https://localhost:8080/",
          "height": 1000
        },
        "outputId": "8915ccc5-6fbb-4047-e945-aee699dde443"
      },
      "outputs": [
        {
          "output_type": "stream",
          "name": "stderr",
          "text": [
            "WARNING:matplotlib.image:Clipping input data to the valid range for imshow with RGB data ([0..1] for floats or [0..255] for integers).\n",
            "WARNING:matplotlib.image:Clipping input data to the valid range for imshow with RGB data ([0..1] for floats or [0..255] for integers).\n"
          ]
        },
        {
          "output_type": "stream",
          "name": "stdout",
          "text": [
            "Number of files found: 5678\n",
            "['/content/higher/output_00001.png', '/content/higher/output_00002.png', '/content/higher/output_00003.png', '/content/higher/output_00004.png', '/content/higher/output_00005.png', '/content/higher/output_00006.png', '/content/higher/output_00007.png', '/content/higher/output_00008.png', '/content/higher/output_00009.png', '/content/higher/output_00010.png']\n",
            "Number of files found: 5678\n",
            "['/content/higher/output_00001.png', '/content/higher/output_00002.png', '/content/higher/output_00003.png', '/content/higher/output_00004.png', '/content/higher/output_00005.png', '/content/higher/output_00006.png', '/content/higher/output_00007.png', '/content/higher/output_00008.png', '/content/higher/output_00009.png', '/content/higher/output_00010.png']\n"
          ]
        },
        {
          "output_type": "display_data",
          "data": {
            "text/plain": [
              "<Figure size 1000x500 with 2 Axes>"
            ],
            "image/png": "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\n"
          },
          "metadata": {}
        },
        {
          "output_type": "stream",
          "name": "stderr",
          "text": [
            "WARNING:matplotlib.image:Clipping input data to the valid range for imshow with RGB data ([0..1] for floats or [0..255] for integers).\n",
            "WARNING:matplotlib.image:Clipping input data to the valid range for imshow with RGB data ([0..1] for floats or [0..255] for integers).\n"
          ]
        },
        {
          "output_type": "display_data",
          "data": {
            "text/plain": [
              "<Figure size 1000x500 with 2 Axes>"
            ],
            "image/png": "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\n"
          },
          "metadata": {}
        },
        {
          "output_type": "stream",
          "name": "stderr",
          "text": [
            "WARNING:matplotlib.image:Clipping input data to the valid range for imshow with RGB data ([0..1] for floats or [0..255] for integers).\n",
            "WARNING:matplotlib.image:Clipping input data to the valid range for imshow with RGB data ([0..1] for floats or [0..255] for integers).\n"
          ]
        },
        {
          "output_type": "display_data",
          "data": {
            "text/plain": [
              "<Figure size 1000x500 with 2 Axes>"
            ],
            "image/png": "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\n"
          },
          "metadata": {}
=======
        "colab": {
          "base_uri": "https://localhost:8080/",
          "height": 370
        },
        "id": "cz98gmIoM09l",
        "outputId": "a3d3ddf1-2dc4-4d7e-b591-3430cd27d61a"
      },
      "outputs": [
        {
          "output_type": "error",
          "ename": "ZeroDivisionError",
          "evalue": "ignored",
          "traceback": [
            "\u001b[0;31m---------------------------------------------------------------------------\u001b[0m",
            "\u001b[0;31mZeroDivisionError\u001b[0m                         Traceback (most recent call last)",
            "\u001b[0;32m<ipython-input-13-2d04629b37a0>\u001b[0m in \u001b[0;36m<cell line: 5>\u001b[0;34m()\u001b[0m\n\u001b[1;32m      4\u001b[0m \u001b[0;31m# Show some images from the train dataset\u001b[0m\u001b[0;34m\u001b[0m\u001b[0;34m\u001b[0m\u001b[0m\n\u001b[1;32m      5\u001b[0m \u001b[0;32mfor\u001b[0m \u001b[0mi\u001b[0m \u001b[0;32min\u001b[0m \u001b[0mrange\u001b[0m\u001b[0;34m(\u001b[0m\u001b[0;36m3\u001b[0m\u001b[0;34m)\u001b[0m\u001b[0;34m:\u001b[0m\u001b[0;34m\u001b[0m\u001b[0;34m\u001b[0m\u001b[0m\n\u001b[0;32m----> 6\u001b[0;31m     \u001b[0minput_image\u001b[0m\u001b[0;34m,\u001b[0m \u001b[0mtarget_image\u001b[0m \u001b[0;34m=\u001b[0m \u001b[0mtrain_dataset\u001b[0m\u001b[0;34m[\u001b[0m\u001b[0mi\u001b[0m\u001b[0;34m]\u001b[0m\u001b[0;34m\u001b[0m\u001b[0;34m\u001b[0m\u001b[0m\n\u001b[0m\u001b[1;32m      7\u001b[0m     \u001b[0minput_image\u001b[0m \u001b[0;34m=\u001b[0m \u001b[0mnp\u001b[0m\u001b[0;34m.\u001b[0m\u001b[0mtranspose\u001b[0m\u001b[0;34m(\u001b[0m\u001b[0minput_image\u001b[0m\u001b[0;34m,\u001b[0m \u001b[0;34m(\u001b[0m\u001b[0;36m1\u001b[0m\u001b[0;34m,\u001b[0m \u001b[0;36m2\u001b[0m\u001b[0;34m,\u001b[0m \u001b[0;36m0\u001b[0m\u001b[0;34m)\u001b[0m\u001b[0;34m)\u001b[0m\u001b[0;34m\u001b[0m\u001b[0;34m\u001b[0m\u001b[0m\n\u001b[1;32m      8\u001b[0m     \u001b[0mtarget_image\u001b[0m \u001b[0;34m=\u001b[0m \u001b[0mnp\u001b[0m\u001b[0;34m.\u001b[0m\u001b[0mtranspose\u001b[0m\u001b[0;34m(\u001b[0m\u001b[0mtarget_image\u001b[0m\u001b[0;34m,\u001b[0m \u001b[0;34m(\u001b[0m\u001b[0;36m1\u001b[0m\u001b[0;34m,\u001b[0m \u001b[0;36m2\u001b[0m\u001b[0;34m,\u001b[0m \u001b[0;36m0\u001b[0m\u001b[0;34m)\u001b[0m\u001b[0;34m)\u001b[0m\u001b[0;34m\u001b[0m\u001b[0;34m\u001b[0m\u001b[0m\n",
            "\u001b[0;32m<ipython-input-10-e74b542319ba>\u001b[0m in \u001b[0;36m__getitem__\u001b[0;34m(self, index)\u001b[0m\n\u001b[1;32m     11\u001b[0m \u001b[0;34m\u001b[0m\u001b[0m\n\u001b[1;32m     12\u001b[0m     \u001b[0;32mdef\u001b[0m \u001b[0m__getitem__\u001b[0m\u001b[0;34m(\u001b[0m\u001b[0mself\u001b[0m\u001b[0;34m,\u001b[0m \u001b[0mindex\u001b[0m\u001b[0;34m)\u001b[0m\u001b[0;34m:\u001b[0m\u001b[0;34m\u001b[0m\u001b[0;34m\u001b[0m\u001b[0m\n\u001b[0;32m---> 13\u001b[0;31m         \u001b[0mimg_A\u001b[0m \u001b[0;34m=\u001b[0m \u001b[0mcv2\u001b[0m\u001b[0;34m.\u001b[0m\u001b[0mimread\u001b[0m\u001b[0;34m(\u001b[0m\u001b[0mself\u001b[0m\u001b[0;34m.\u001b[0m\u001b[0mfiles\u001b[0m\u001b[0;34m[\u001b[0m\u001b[0mindex\u001b[0m \u001b[0;34m%\u001b[0m \u001b[0mlen\u001b[0m\u001b[0;34m(\u001b[0m\u001b[0mself\u001b[0m\u001b[0;34m.\u001b[0m\u001b[0mfiles\u001b[0m\u001b[0;34m)\u001b[0m\u001b[0;34m]\u001b[0m\u001b[0;34m)\u001b[0m\u001b[0;34m\u001b[0m\u001b[0;34m\u001b[0m\u001b[0m\n\u001b[0m\u001b[1;32m     14\u001b[0m         \u001b[0mimg_A\u001b[0m \u001b[0;34m=\u001b[0m \u001b[0mcv2\u001b[0m\u001b[0;34m.\u001b[0m\u001b[0mcvtColor\u001b[0m\u001b[0;34m(\u001b[0m\u001b[0mimg_A\u001b[0m\u001b[0;34m,\u001b[0m \u001b[0mcv2\u001b[0m\u001b[0;34m.\u001b[0m\u001b[0mCOLOR_BGR2RGB\u001b[0m\u001b[0;34m)\u001b[0m\u001b[0;34m\u001b[0m\u001b[0;34m\u001b[0m\u001b[0m\n\u001b[1;32m     15\u001b[0m         \u001b[0mimg_B\u001b[0m \u001b[0;34m=\u001b[0m \u001b[0mcv2\u001b[0m\u001b[0;34m.\u001b[0m\u001b[0mcvtColor\u001b[0m\u001b[0;34m(\u001b[0m\u001b[0mcv2\u001b[0m\u001b[0;34m.\u001b[0m\u001b[0mcvtColor\u001b[0m\u001b[0;34m(\u001b[0m\u001b[0mimg_A\u001b[0m\u001b[0;34m,\u001b[0m \u001b[0mcv2\u001b[0m\u001b[0;34m.\u001b[0m\u001b[0mCOLOR_RGB2GRAY\u001b[0m\u001b[0;34m)\u001b[0m\u001b[0;34m,\u001b[0m \u001b[0mcv2\u001b[0m\u001b[0;34m.\u001b[0m\u001b[0mCOLOR_GRAY2RGB\u001b[0m\u001b[0;34m)\u001b[0m\u001b[0;34m\u001b[0m\u001b[0;34m\u001b[0m\u001b[0m\n",
            "\u001b[0;31mZeroDivisionError\u001b[0m: integer division or modulo by zero"
          ]
>>>>>>> parent of a215237 (Update Pix2Pix.ipynb)
        }
      ],
      "source": [
        "train_dataset = ImageDataset_color(root = '/content/higher', transforms_ = transform)\n",
        "val_dataset = ImageDataset_color(root = '/content/higher', transforms_ = transform)\n",
        "\n",
        "# Show some images from the train dataset\n",
        "for i in range(3):\n",
        "    input_image, target_image = train_dataset[i]\n",
        "    input_image = np.transpose(input_image, (1, 2, 0))\n",
        "    target_image = np.transpose(target_image, (1, 2, 0))\n",
        "    fig, axes = plt.subplots(1, 2, figsize=(10, 5))\n",
        "    axes[0].imshow(input_image)\n",
        "    axes[0].set_title('Input Image')\n",
        "    axes[1].imshow(target_image)\n",
        "    axes[1].set_title('Target Image')\n",
        "    plt.show()"
      ]
    },
    {
      "cell_type": "code",
      "execution_count": 17,
      "metadata": {
        "id": "_7tINP5X4ED0",
        "colab": {
          "base_uri": "https://localhost:8080/"
        },
        "outputId": "6e5662ba-68f2-4dd7-cfba-0010c315f9ee"
      },
      "outputs": [
        {
          "output_type": "stream",
          "name": "stdout",
          "text": [
            "=> Loading checkpoint\n",
            "=> Loading checkpoint\n"
          ]
        }
      ],
      "source": [
        "# Training:\n",
        "\n",
        "disc = Discriminator(input_channels = 3).to(device)\n",
        "gen = Generator(num_input_channels = 3, num_output_channels = 3).to(device)\n",
        "opt_disc = optim.Adam(disc.parameters(), lr = learning_rate, betas = (0.5, 0.999))\n",
        "opt_gen = optim.Adam(gen.parameters(), lr = learning_rate, betas = (0.5, 0.999))\n",
        "bce_loss = nn.BCEWithLogitsLoss()\n",
        "l1_loss = nn.L1Loss()\n",
        "\n",
        "if load_model == True:\n",
        "  load_checkpoint(checkpoint_gen, gen, opt_gen, learning_rate)\n",
        "  load_checkpoint(checkpoint_disc, disc, opt_disc, learning_rate)\n",
        "\n",
        "\n",
        "train_loader = DataLoader(train_dataset, batch_size = batch_size, shuffle = True, num_workers = num_workers)\n",
        "g_scaler = torch.cuda.amp.GradScaler()\n",
        "d_scaler = torch.cuda.amp.GradScaler()\n",
        "val_loader = DataLoader(val_dataset, batch_size = batch_size, shuffle = False)"
      ]
    },
    {
      "cell_type": "code",
      "execution_count": 18,
      "metadata": {
        "id": "SILpy3OG71SH"
      },
      "outputs": [],
      "source": [
        "def train_fn(disc, gen, loader, opt_disc, opt_gen, l1, bce_loss, g_scaler, d_scaler):\n",
        "  loop = tqdm(loader, leave = True)\n",
        "\n",
        "  for index, (x, y) in enumerate(loop):\n",
        "    x = x.to(device)\n",
        "    y = y.to(device)\n",
        "\n",
        "    # Train discriminator:\n",
        "    with torch.cuda.amp.autocast(): # Float 16.\n",
        "      y_fake = gen(x)\n",
        "      d_real = disc(x, y)\n",
        "      d_fake = disc(x, y_fake) # \n",
        "      d_real_loss = bce_loss(d_real, torch.ones_like(d_real))\n",
        "      d_fake_loss = bce_loss(d_fake, torch.zeros_like(d_fake))\n",
        "      d_loss = (d_real_loss + d_fake_loss) / 2 # Divide by two to make the discriminator train 'slower' than the generator. \n",
        "    \n",
        "    disc.zero_grad()\n",
        "    d_scaler.scale(d_loss).backward(retain_graph = True)\n",
        "    d_scaler.step(opt_disc)\n",
        "    d_scaler.update()\n",
        "\n",
        "    # Train generator:\n",
        "    with torch.cuda.amp.autocast():\n",
        "      d_fake = disc(x, y_fake)\n",
        "      g_fake_loss = bce_loss(d_fake, torch.ones_like(d_fake)) # Trick the discriminator into thinking that these are real images. \n",
        "      l1 = l1_loss(y_fake, y) * l1_lambda\n",
        "      g_loss = g_fake_loss + l1\n",
        "    \n",
        "    opt_gen.zero_grad() # Clear weights.\n",
        "    g_scaler.scale(g_loss).backward()\n",
        "    g_scaler.step(opt_gen)\n",
        "    g_scaler.update()\n"
      ]
    },
    {
      "cell_type": "code",
      "execution_count": null,
      "metadata": {
        "colab": {
          "base_uri": "https://localhost:8080/",
          "height": 540
        },
        "id": "qQwBwWZj4E0W",
        "outputId": "979c3b59-4483-49d1-9a23-e1a959f9c6f9"
      },
      "outputs": [
        {
          "metadata": {
            "tags": null
          },
          "name": "stderr",
          "output_type": "stream",
          "text": [
            "100%|██████████| 33841/33841 [3:10:52<00:00,  2.95it/s]\n"
          ]
        },
        {
          "metadata": {
            "tags": null
          },
          "name": "stdout",
          "output_type": "stream",
          "text": [
            "=> Saving checkpoint\n",
            "=> Saving checkpoint\n"
          ]
        },
        {
          "output_type": "stream",
          "name": "stderr",
          "text": [
            "100%|██████████| 33841/33841 [3:05:15<00:00,  3.04it/s]\n"
          ]
        },
        {
          "output_type": "stream",
          "name": "stdout",
          "text": [
            "=> Saving checkpoint\n",
            "=> Saving checkpoint\n"
          ]
        },
        {
          "output_type": "stream",
          "name": "stderr",
          "text": [
            "  1%|▏         | 501/33841 [02:55<3:14:26,  2.86it/s]\n"
          ]
        },
        {
          "output_type": "error",
          "ename": "KeyboardInterrupt",
          "evalue": "ignored",
          "traceback": [
            "\u001b[0;31m---------------------------------------------------------------------------\u001b[0m",
            "\u001b[0;31mKeyboardInterrupt\u001b[0m                         Traceback (most recent call last)",
            "\u001b[0;32m<ipython-input-24-7ade53645012>\u001b[0m in \u001b[0;36m<cell line: 1>\u001b[0;34m()\u001b[0m\n\u001b[1;32m      1\u001b[0m \u001b[0;32mfor\u001b[0m \u001b[0mepoch\u001b[0m \u001b[0;32min\u001b[0m \u001b[0mrange\u001b[0m\u001b[0;34m(\u001b[0m\u001b[0mnum_epochs\u001b[0m\u001b[0;34m)\u001b[0m\u001b[0;34m:\u001b[0m\u001b[0;34m\u001b[0m\u001b[0;34m\u001b[0m\u001b[0m\n\u001b[0;32m----> 2\u001b[0;31m   \u001b[0mtrain_fn\u001b[0m\u001b[0;34m(\u001b[0m\u001b[0mdisc\u001b[0m\u001b[0;34m,\u001b[0m \u001b[0mgen\u001b[0m\u001b[0;34m,\u001b[0m \u001b[0mtrain_loader\u001b[0m\u001b[0;34m,\u001b[0m \u001b[0mopt_disc\u001b[0m\u001b[0;34m,\u001b[0m \u001b[0mopt_gen\u001b[0m\u001b[0;34m,\u001b[0m \u001b[0ml1_loss\u001b[0m\u001b[0;34m,\u001b[0m \u001b[0mbce_loss\u001b[0m\u001b[0;34m,\u001b[0m \u001b[0mg_scaler\u001b[0m\u001b[0;34m,\u001b[0m \u001b[0md_scaler\u001b[0m\u001b[0;34m)\u001b[0m\u001b[0;34m\u001b[0m\u001b[0;34m\u001b[0m\u001b[0m\n\u001b[0m\u001b[1;32m      3\u001b[0m \u001b[0;34m\u001b[0m\u001b[0m\n\u001b[1;32m      4\u001b[0m   \u001b[0;32mif\u001b[0m \u001b[0msave_model\u001b[0m \u001b[0;32mand\u001b[0m \u001b[0mepoch\u001b[0m \u001b[0;34m%\u001b[0m \u001b[0;36m1\u001b[0m \u001b[0;34m==\u001b[0m \u001b[0;36m0\u001b[0m\u001b[0;34m:\u001b[0m\u001b[0;34m\u001b[0m\u001b[0;34m\u001b[0m\u001b[0m\n\u001b[1;32m      5\u001b[0m     \u001b[0msave_checkpoint\u001b[0m\u001b[0;34m(\u001b[0m\u001b[0mgen\u001b[0m\u001b[0;34m,\u001b[0m \u001b[0mopt_gen\u001b[0m\u001b[0;34m,\u001b[0m \u001b[0mfilename\u001b[0m \u001b[0;34m=\u001b[0m \u001b[0mcheckpoint_gen\u001b[0m\u001b[0;34m)\u001b[0m\u001b[0;34m\u001b[0m\u001b[0;34m\u001b[0m\u001b[0m\n",
            "\u001b[0;32m<ipython-input-23-2c3c19001bb7>\u001b[0m in \u001b[0;36mtrain_fn\u001b[0;34m(disc, gen, loader, opt_disc, opt_gen, l1, bce_loss, g_scaler, d_scaler)\u001b[0m\n\u001b[1;32m      2\u001b[0m   \u001b[0mloop\u001b[0m \u001b[0;34m=\u001b[0m \u001b[0mtqdm\u001b[0m\u001b[0;34m(\u001b[0m\u001b[0mloader\u001b[0m\u001b[0;34m,\u001b[0m \u001b[0mleave\u001b[0m \u001b[0;34m=\u001b[0m \u001b[0;32mTrue\u001b[0m\u001b[0;34m)\u001b[0m\u001b[0;34m\u001b[0m\u001b[0;34m\u001b[0m\u001b[0m\n\u001b[1;32m      3\u001b[0m \u001b[0;34m\u001b[0m\u001b[0m\n\u001b[0;32m----> 4\u001b[0;31m   \u001b[0;32mfor\u001b[0m \u001b[0mindex\u001b[0m\u001b[0;34m,\u001b[0m \u001b[0;34m(\u001b[0m\u001b[0mx\u001b[0m\u001b[0;34m,\u001b[0m \u001b[0my\u001b[0m\u001b[0;34m)\u001b[0m \u001b[0;32min\u001b[0m \u001b[0menumerate\u001b[0m\u001b[0;34m(\u001b[0m\u001b[0mloop\u001b[0m\u001b[0;34m)\u001b[0m\u001b[0;34m:\u001b[0m\u001b[0;34m\u001b[0m\u001b[0;34m\u001b[0m\u001b[0m\n\u001b[0m\u001b[1;32m      5\u001b[0m     \u001b[0mx\u001b[0m \u001b[0;34m=\u001b[0m \u001b[0mx\u001b[0m\u001b[0;34m.\u001b[0m\u001b[0mto\u001b[0m\u001b[0;34m(\u001b[0m\u001b[0mdevice\u001b[0m\u001b[0;34m)\u001b[0m\u001b[0;34m\u001b[0m\u001b[0;34m\u001b[0m\u001b[0m\n\u001b[1;32m      6\u001b[0m     \u001b[0my\u001b[0m \u001b[0;34m=\u001b[0m \u001b[0my\u001b[0m\u001b[0;34m.\u001b[0m\u001b[0mto\u001b[0m\u001b[0;34m(\u001b[0m\u001b[0mdevice\u001b[0m\u001b[0;34m)\u001b[0m\u001b[0;34m\u001b[0m\u001b[0;34m\u001b[0m\u001b[0m\n",
            "\u001b[0;32m/usr/local/lib/python3.9/dist-packages/tqdm/std.py\u001b[0m in \u001b[0;36m__iter__\u001b[0;34m(self)\u001b[0m\n\u001b[1;32m   1176\u001b[0m \u001b[0;34m\u001b[0m\u001b[0m\n\u001b[1;32m   1177\u001b[0m         \u001b[0;32mtry\u001b[0m\u001b[0;34m:\u001b[0m\u001b[0;34m\u001b[0m\u001b[0;34m\u001b[0m\u001b[0m\n\u001b[0;32m-> 1178\u001b[0;31m             \u001b[0;32mfor\u001b[0m \u001b[0mobj\u001b[0m \u001b[0;32min\u001b[0m \u001b[0miterable\u001b[0m\u001b[0;34m:\u001b[0m\u001b[0;34m\u001b[0m\u001b[0;34m\u001b[0m\u001b[0m\n\u001b[0m\u001b[1;32m   1179\u001b[0m                 \u001b[0;32myield\u001b[0m \u001b[0mobj\u001b[0m\u001b[0;34m\u001b[0m\u001b[0;34m\u001b[0m\u001b[0m\n\u001b[1;32m   1180\u001b[0m                 \u001b[0;31m# Update and possibly print the progressbar.\u001b[0m\u001b[0;34m\u001b[0m\u001b[0;34m\u001b[0m\u001b[0m\n",
            "\u001b[0;32m/usr/local/lib/python3.9/dist-packages/torch/utils/data/dataloader.py\u001b[0m in \u001b[0;36m__next__\u001b[0;34m(self)\u001b[0m\n\u001b[1;32m    632\u001b[0m                 \u001b[0;31m# TODO(https://github.com/pytorch/pytorch/issues/76750)\u001b[0m\u001b[0;34m\u001b[0m\u001b[0;34m\u001b[0m\u001b[0m\n\u001b[1;32m    633\u001b[0m                 \u001b[0mself\u001b[0m\u001b[0;34m.\u001b[0m\u001b[0m_reset\u001b[0m\u001b[0;34m(\u001b[0m\u001b[0;34m)\u001b[0m  \u001b[0;31m# type: ignore[call-arg]\u001b[0m\u001b[0;34m\u001b[0m\u001b[0;34m\u001b[0m\u001b[0m\n\u001b[0;32m--> 634\u001b[0;31m             \u001b[0mdata\u001b[0m \u001b[0;34m=\u001b[0m \u001b[0mself\u001b[0m\u001b[0;34m.\u001b[0m\u001b[0m_next_data\u001b[0m\u001b[0;34m(\u001b[0m\u001b[0;34m)\u001b[0m\u001b[0;34m\u001b[0m\u001b[0;34m\u001b[0m\u001b[0m\n\u001b[0m\u001b[1;32m    635\u001b[0m             \u001b[0mself\u001b[0m\u001b[0;34m.\u001b[0m\u001b[0m_num_yielded\u001b[0m \u001b[0;34m+=\u001b[0m \u001b[0;36m1\u001b[0m\u001b[0;34m\u001b[0m\u001b[0;34m\u001b[0m\u001b[0m\n\u001b[1;32m    636\u001b[0m             \u001b[0;32mif\u001b[0m \u001b[0mself\u001b[0m\u001b[0;34m.\u001b[0m\u001b[0m_dataset_kind\u001b[0m \u001b[0;34m==\u001b[0m \u001b[0m_DatasetKind\u001b[0m\u001b[0;34m.\u001b[0m\u001b[0mIterable\u001b[0m \u001b[0;32mand\u001b[0m\u001b[0;31m \u001b[0m\u001b[0;31m\\\u001b[0m\u001b[0;34m\u001b[0m\u001b[0;34m\u001b[0m\u001b[0m\n",
            "\u001b[0;32m/usr/local/lib/python3.9/dist-packages/torch/utils/data/dataloader.py\u001b[0m in \u001b[0;36m_next_data\u001b[0;34m(self)\u001b[0m\n\u001b[1;32m   1327\u001b[0m \u001b[0;34m\u001b[0m\u001b[0m\n\u001b[1;32m   1328\u001b[0m             \u001b[0;32massert\u001b[0m \u001b[0;32mnot\u001b[0m \u001b[0mself\u001b[0m\u001b[0;34m.\u001b[0m\u001b[0m_shutdown\u001b[0m \u001b[0;32mand\u001b[0m \u001b[0mself\u001b[0m\u001b[0;34m.\u001b[0m\u001b[0m_tasks_outstanding\u001b[0m \u001b[0;34m>\u001b[0m \u001b[0;36m0\u001b[0m\u001b[0;34m\u001b[0m\u001b[0;34m\u001b[0m\u001b[0m\n\u001b[0;32m-> 1329\u001b[0;31m             \u001b[0midx\u001b[0m\u001b[0;34m,\u001b[0m \u001b[0mdata\u001b[0m \u001b[0;34m=\u001b[0m \u001b[0mself\u001b[0m\u001b[0;34m.\u001b[0m\u001b[0m_get_data\u001b[0m\u001b[0;34m(\u001b[0m\u001b[0;34m)\u001b[0m\u001b[0;34m\u001b[0m\u001b[0;34m\u001b[0m\u001b[0m\n\u001b[0m\u001b[1;32m   1330\u001b[0m             \u001b[0mself\u001b[0m\u001b[0;34m.\u001b[0m\u001b[0m_tasks_outstanding\u001b[0m \u001b[0;34m-=\u001b[0m \u001b[0;36m1\u001b[0m\u001b[0;34m\u001b[0m\u001b[0;34m\u001b[0m\u001b[0m\n\u001b[1;32m   1331\u001b[0m             \u001b[0;32mif\u001b[0m \u001b[0mself\u001b[0m\u001b[0;34m.\u001b[0m\u001b[0m_dataset_kind\u001b[0m \u001b[0;34m==\u001b[0m \u001b[0m_DatasetKind\u001b[0m\u001b[0;34m.\u001b[0m\u001b[0mIterable\u001b[0m\u001b[0;34m:\u001b[0m\u001b[0;34m\u001b[0m\u001b[0;34m\u001b[0m\u001b[0m\n",
            "\u001b[0;32m/usr/local/lib/python3.9/dist-packages/torch/utils/data/dataloader.py\u001b[0m in \u001b[0;36m_get_data\u001b[0;34m(self)\u001b[0m\n\u001b[1;32m   1293\u001b[0m         \u001b[0;32melse\u001b[0m\u001b[0;34m:\u001b[0m\u001b[0;34m\u001b[0m\u001b[0;34m\u001b[0m\u001b[0m\n\u001b[1;32m   1294\u001b[0m             \u001b[0;32mwhile\u001b[0m \u001b[0;32mTrue\u001b[0m\u001b[0;34m:\u001b[0m\u001b[0;34m\u001b[0m\u001b[0;34m\u001b[0m\u001b[0m\n\u001b[0;32m-> 1295\u001b[0;31m                 \u001b[0msuccess\u001b[0m\u001b[0;34m,\u001b[0m \u001b[0mdata\u001b[0m \u001b[0;34m=\u001b[0m \u001b[0mself\u001b[0m\u001b[0;34m.\u001b[0m\u001b[0m_try_get_data\u001b[0m\u001b[0;34m(\u001b[0m\u001b[0;34m)\u001b[0m\u001b[0;34m\u001b[0m\u001b[0;34m\u001b[0m\u001b[0m\n\u001b[0m\u001b[1;32m   1296\u001b[0m                 \u001b[0;32mif\u001b[0m \u001b[0msuccess\u001b[0m\u001b[0;34m:\u001b[0m\u001b[0;34m\u001b[0m\u001b[0;34m\u001b[0m\u001b[0m\n\u001b[1;32m   1297\u001b[0m                     \u001b[0;32mreturn\u001b[0m \u001b[0mdata\u001b[0m\u001b[0;34m\u001b[0m\u001b[0;34m\u001b[0m\u001b[0m\n",
            "\u001b[0;32m/usr/local/lib/python3.9/dist-packages/torch/utils/data/dataloader.py\u001b[0m in \u001b[0;36m_try_get_data\u001b[0;34m(self, timeout)\u001b[0m\n\u001b[1;32m   1131\u001b[0m         \u001b[0;31m#   (bool: whether successfully get data, any: data if successful else None)\u001b[0m\u001b[0;34m\u001b[0m\u001b[0;34m\u001b[0m\u001b[0m\n\u001b[1;32m   1132\u001b[0m         \u001b[0;32mtry\u001b[0m\u001b[0;34m:\u001b[0m\u001b[0;34m\u001b[0m\u001b[0;34m\u001b[0m\u001b[0m\n\u001b[0;32m-> 1133\u001b[0;31m             \u001b[0mdata\u001b[0m \u001b[0;34m=\u001b[0m \u001b[0mself\u001b[0m\u001b[0;34m.\u001b[0m\u001b[0m_data_queue\u001b[0m\u001b[0;34m.\u001b[0m\u001b[0mget\u001b[0m\u001b[0;34m(\u001b[0m\u001b[0mtimeout\u001b[0m\u001b[0;34m=\u001b[0m\u001b[0mtimeout\u001b[0m\u001b[0;34m)\u001b[0m\u001b[0;34m\u001b[0m\u001b[0;34m\u001b[0m\u001b[0m\n\u001b[0m\u001b[1;32m   1134\u001b[0m             \u001b[0;32mreturn\u001b[0m \u001b[0;34m(\u001b[0m\u001b[0;32mTrue\u001b[0m\u001b[0;34m,\u001b[0m \u001b[0mdata\u001b[0m\u001b[0;34m)\u001b[0m\u001b[0;34m\u001b[0m\u001b[0;34m\u001b[0m\u001b[0m\n\u001b[1;32m   1135\u001b[0m         \u001b[0;32mexcept\u001b[0m \u001b[0mException\u001b[0m \u001b[0;32mas\u001b[0m \u001b[0me\u001b[0m\u001b[0;34m:\u001b[0m\u001b[0;34m\u001b[0m\u001b[0;34m\u001b[0m\u001b[0m\n",
            "\u001b[0;32m/usr/lib/python3.9/multiprocessing/queues.py\u001b[0m in \u001b[0;36mget\u001b[0;34m(self, block, timeout)\u001b[0m\n\u001b[1;32m    111\u001b[0m                 \u001b[0;32mif\u001b[0m \u001b[0mblock\u001b[0m\u001b[0;34m:\u001b[0m\u001b[0;34m\u001b[0m\u001b[0;34m\u001b[0m\u001b[0m\n\u001b[1;32m    112\u001b[0m                     \u001b[0mtimeout\u001b[0m \u001b[0;34m=\u001b[0m \u001b[0mdeadline\u001b[0m \u001b[0;34m-\u001b[0m \u001b[0mtime\u001b[0m\u001b[0;34m.\u001b[0m\u001b[0mmonotonic\u001b[0m\u001b[0;34m(\u001b[0m\u001b[0;34m)\u001b[0m\u001b[0;34m\u001b[0m\u001b[0;34m\u001b[0m\u001b[0m\n\u001b[0;32m--> 113\u001b[0;31m                     \u001b[0;32mif\u001b[0m \u001b[0;32mnot\u001b[0m \u001b[0mself\u001b[0m\u001b[0;34m.\u001b[0m\u001b[0m_poll\u001b[0m\u001b[0;34m(\u001b[0m\u001b[0mtimeout\u001b[0m\u001b[0;34m)\u001b[0m\u001b[0;34m:\u001b[0m\u001b[0;34m\u001b[0m\u001b[0;34m\u001b[0m\u001b[0m\n\u001b[0m\u001b[1;32m    114\u001b[0m                         \u001b[0;32mraise\u001b[0m \u001b[0mEmpty\u001b[0m\u001b[0;34m\u001b[0m\u001b[0;34m\u001b[0m\u001b[0m\n\u001b[1;32m    115\u001b[0m                 \u001b[0;32melif\u001b[0m \u001b[0;32mnot\u001b[0m \u001b[0mself\u001b[0m\u001b[0;34m.\u001b[0m\u001b[0m_poll\u001b[0m\u001b[0;34m(\u001b[0m\u001b[0;34m)\u001b[0m\u001b[0;34m:\u001b[0m\u001b[0;34m\u001b[0m\u001b[0;34m\u001b[0m\u001b[0m\n",
            "\u001b[0;32m/usr/lib/python3.9/multiprocessing/connection.py\u001b[0m in \u001b[0;36mpoll\u001b[0;34m(self, timeout)\u001b[0m\n\u001b[1;32m    255\u001b[0m         \u001b[0mself\u001b[0m\u001b[0;34m.\u001b[0m\u001b[0m_check_closed\u001b[0m\u001b[0;34m(\u001b[0m\u001b[0;34m)\u001b[0m\u001b[0;34m\u001b[0m\u001b[0;34m\u001b[0m\u001b[0m\n\u001b[1;32m    256\u001b[0m         \u001b[0mself\u001b[0m\u001b[0;34m.\u001b[0m\u001b[0m_check_readable\u001b[0m\u001b[0;34m(\u001b[0m\u001b[0;34m)\u001b[0m\u001b[0;34m\u001b[0m\u001b[0;34m\u001b[0m\u001b[0m\n\u001b[0;32m--> 257\u001b[0;31m         \u001b[0;32mreturn\u001b[0m \u001b[0mself\u001b[0m\u001b[0;34m.\u001b[0m\u001b[0m_poll\u001b[0m\u001b[0;34m(\u001b[0m\u001b[0mtimeout\u001b[0m\u001b[0;34m)\u001b[0m\u001b[0;34m\u001b[0m\u001b[0;34m\u001b[0m\u001b[0m\n\u001b[0m\u001b[1;32m    258\u001b[0m \u001b[0;34m\u001b[0m\u001b[0m\n\u001b[1;32m    259\u001b[0m     \u001b[0;32mdef\u001b[0m \u001b[0m__enter__\u001b[0m\u001b[0;34m(\u001b[0m\u001b[0mself\u001b[0m\u001b[0;34m)\u001b[0m\u001b[0;34m:\u001b[0m\u001b[0;34m\u001b[0m\u001b[0;34m\u001b[0m\u001b[0m\n",
            "\u001b[0;32m/usr/lib/python3.9/multiprocessing/connection.py\u001b[0m in \u001b[0;36m_poll\u001b[0;34m(self, timeout)\u001b[0m\n\u001b[1;32m    422\u001b[0m \u001b[0;34m\u001b[0m\u001b[0m\n\u001b[1;32m    423\u001b[0m     \u001b[0;32mdef\u001b[0m \u001b[0m_poll\u001b[0m\u001b[0;34m(\u001b[0m\u001b[0mself\u001b[0m\u001b[0;34m,\u001b[0m \u001b[0mtimeout\u001b[0m\u001b[0;34m)\u001b[0m\u001b[0;34m:\u001b[0m\u001b[0;34m\u001b[0m\u001b[0;34m\u001b[0m\u001b[0m\n\u001b[0;32m--> 424\u001b[0;31m         \u001b[0mr\u001b[0m \u001b[0;34m=\u001b[0m \u001b[0mwait\u001b[0m\u001b[0;34m(\u001b[0m\u001b[0;34m[\u001b[0m\u001b[0mself\u001b[0m\u001b[0;34m]\u001b[0m\u001b[0;34m,\u001b[0m \u001b[0mtimeout\u001b[0m\u001b[0;34m)\u001b[0m\u001b[0;34m\u001b[0m\u001b[0;34m\u001b[0m\u001b[0m\n\u001b[0m\u001b[1;32m    425\u001b[0m         \u001b[0;32mreturn\u001b[0m \u001b[0mbool\u001b[0m\u001b[0;34m(\u001b[0m\u001b[0mr\u001b[0m\u001b[0;34m)\u001b[0m\u001b[0;34m\u001b[0m\u001b[0;34m\u001b[0m\u001b[0m\n\u001b[1;32m    426\u001b[0m \u001b[0;34m\u001b[0m\u001b[0m\n",
            "\u001b[0;32m/usr/lib/python3.9/multiprocessing/connection.py\u001b[0m in \u001b[0;36mwait\u001b[0;34m(object_list, timeout)\u001b[0m\n\u001b[1;32m    929\u001b[0m \u001b[0;34m\u001b[0m\u001b[0m\n\u001b[1;32m    930\u001b[0m             \u001b[0;32mwhile\u001b[0m \u001b[0;32mTrue\u001b[0m\u001b[0;34m:\u001b[0m\u001b[0;34m\u001b[0m\u001b[0;34m\u001b[0m\u001b[0m\n\u001b[0;32m--> 931\u001b[0;31m                 \u001b[0mready\u001b[0m \u001b[0;34m=\u001b[0m \u001b[0mselector\u001b[0m\u001b[0;34m.\u001b[0m\u001b[0mselect\u001b[0m\u001b[0;34m(\u001b[0m\u001b[0mtimeout\u001b[0m\u001b[0;34m)\u001b[0m\u001b[0;34m\u001b[0m\u001b[0;34m\u001b[0m\u001b[0m\n\u001b[0m\u001b[1;32m    932\u001b[0m                 \u001b[0;32mif\u001b[0m \u001b[0mready\u001b[0m\u001b[0;34m:\u001b[0m\u001b[0;34m\u001b[0m\u001b[0;34m\u001b[0m\u001b[0m\n\u001b[1;32m    933\u001b[0m                     \u001b[0;32mreturn\u001b[0m \u001b[0;34m[\u001b[0m\u001b[0mkey\u001b[0m\u001b[0;34m.\u001b[0m\u001b[0mfileobj\u001b[0m \u001b[0;32mfor\u001b[0m \u001b[0;34m(\u001b[0m\u001b[0mkey\u001b[0m\u001b[0;34m,\u001b[0m \u001b[0mevents\u001b[0m\u001b[0;34m)\u001b[0m \u001b[0;32min\u001b[0m \u001b[0mready\u001b[0m\u001b[0;34m]\u001b[0m\u001b[0;34m\u001b[0m\u001b[0;34m\u001b[0m\u001b[0m\n",
            "\u001b[0;32m/usr/lib/python3.9/selectors.py\u001b[0m in \u001b[0;36mselect\u001b[0;34m(self, timeout)\u001b[0m\n\u001b[1;32m    414\u001b[0m         \u001b[0mready\u001b[0m \u001b[0;34m=\u001b[0m \u001b[0;34m[\u001b[0m\u001b[0;34m]\u001b[0m\u001b[0;34m\u001b[0m\u001b[0;34m\u001b[0m\u001b[0m\n\u001b[1;32m    415\u001b[0m         \u001b[0;32mtry\u001b[0m\u001b[0;34m:\u001b[0m\u001b[0;34m\u001b[0m\u001b[0;34m\u001b[0m\u001b[0m\n\u001b[0;32m--> 416\u001b[0;31m             \u001b[0mfd_event_list\u001b[0m \u001b[0;34m=\u001b[0m \u001b[0mself\u001b[0m\u001b[0;34m.\u001b[0m\u001b[0m_selector\u001b[0m\u001b[0;34m.\u001b[0m\u001b[0mpoll\u001b[0m\u001b[0;34m(\u001b[0m\u001b[0mtimeout\u001b[0m\u001b[0;34m)\u001b[0m\u001b[0;34m\u001b[0m\u001b[0;34m\u001b[0m\u001b[0m\n\u001b[0m\u001b[1;32m    417\u001b[0m         \u001b[0;32mexcept\u001b[0m \u001b[0mInterruptedError\u001b[0m\u001b[0;34m:\u001b[0m\u001b[0;34m\u001b[0m\u001b[0;34m\u001b[0m\u001b[0m\n\u001b[1;32m    418\u001b[0m             \u001b[0;32mreturn\u001b[0m \u001b[0mready\u001b[0m\u001b[0;34m\u001b[0m\u001b[0;34m\u001b[0m\u001b[0m\n",
            "\u001b[0;31mKeyboardInterrupt\u001b[0m: "
          ]
        }
      ],
      "source": [
        "for epoch in range(num_epochs):\n",
        "  train_fn(disc, gen, train_loader, opt_disc, opt_gen, l1_loss, bce_loss, g_scaler, d_scaler)\n",
        "\n",
        "  if save_model and epoch % 1 == 0:\n",
        "    save_checkpoint(gen, opt_gen, filename = checkpoint_gen)\n",
        "    save_checkpoint(disc, opt_disc, filename = checkpoint_disc)\n",
        "  \n",
        "  save_some_examples(gen, val_loader, epoch, folder = \"./evaluation\")\n"
      ]
    },
    {
      "cell_type": "code",
      "execution_count": null,
      "metadata": {
        "id": "LubuEnJfJqGD"
      },
      "outputs": [],
      "source": [
        "from PIL import Image\n",
        "\n",
        "def test_image(gen, img_dir, folder):\n",
        "  \"\"\"\n",
        "  Allows for testing of a single image by passing it in directly via its directory\n",
        "  and converting it to a PIL-type image. \n",
        "  The image is transformed and resized to the appropriate size.\n",
        "  Then, the input tensor is passed into the generator, which generates the 'fake'\n",
        "  colorized image and saves it in the testing folder. \n",
        "  \"\"\"\n",
        "  input_image = Image.open(img_dir).convert('RGB')\n",
        "  transform = transforms.Compose([\n",
        "      transforms.Resize((1024, 1024)),\n",
        "      transforms.ToTensor(), \n",
        "      transforms.Normalize(mean = [0.5, 0.5, 0.5], std = [0.5, 0.5, 0.5])\n",
        "  ])\n",
        "  input_tensor = transform(input_image).unsqueeze(0).to(device) # unsqueeze(0) \n",
        "  # adds a new dimension to the tensor at position 0. \n",
        "  # Since the transform function returns a tensor of shape (channels, height, width), we\n",
        "  # want the resulting shape to be (1, height, width) so that only one image is fed (as a batch size of 1).\n",
        "  gen.eval()\n",
        "  with torch.no_grad():\n",
        "    y_fake = gen(input_tensor)\n",
        "    y_fake = y_fake * 0.5 + 0.5 # Remove normalization.\n",
        "    save_image(y_fake, folder + f\"/colorized_image.png\")\n",
        "    save_image(input_tensor.squeeze() * 0.5 + 0.5, folder + f\"/original_image.png\")\n",
        "  gen.train()"
      ]
    },
    {
      "cell_type": "code",
      "execution_count": null,
      "metadata": {
        "id": "UTPFejVsMIsz"
      },
      "outputs": [],
      "source": [
        "test_image(gen, img_dir = \"/content/5d4d43d585600a0462410713.jpg\", folder = \"testing\")"
      ]
    },
    {
      "cell_type": "code",
      "execution_count": null,
      "metadata": {
        "id": "Dlu7MxOJTWzv"
      },
      "outputs": [],
      "source": [
        "save_some_examples(gen, val_loader, 1, \"./evaluation\")"
      ]
    }
  ],
  "metadata": {
    "colab": {
      "provenance": [],
      "gpuType": "T4"
    },
    "gpuClass": "standard",
    "kernelspec": {
      "display_name": "Python 3",
      "name": "python3"
    },
    "language_info": {
      "name": "python"
    },
    "accelerator": "GPU"
  },
  "nbformat": 4,
  "nbformat_minor": 0
}